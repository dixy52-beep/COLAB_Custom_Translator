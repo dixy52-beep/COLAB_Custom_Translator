{
  "nbformat": 4,
  "nbformat_minor": 0,
  "metadata": {
    "colab": {
      "provenance": [],
      "authorship_tag": "ABX9TyNi1ASD7Za8+tcqn9aZumK2",
      "include_colab_link": true
    },
    "kernelspec": {
      "name": "python3",
      "display_name": "Python 3"
    },
    "language_info": {
      "name": "python"
    }
  },
  "cells": [
    {
      "cell_type": "markdown",
      "metadata": {
        "id": "view-in-github",
        "colab_type": "text"
      },
      "source": [
        "<a href=\"https://colab.research.google.com/github/dixy52-beep/COLAB_Custom_Translator/blob/main/Colab_Translator.ipynb\" target=\"_parent\"><img src=\"https://colab.research.google.com/assets/colab-badge.svg\" alt=\"Open In Colab\"/></a>"
      ]
    },
    {
      "cell_type": "code",
      "source": [
        "import random\n",
        "\n",
        "def read_data(file_path):\n",
        "    input_texts = []\n",
        "    target_texts = []\n",
        "    with open(file_path, 'r', encoding='utf-8') as file:\n",
        "        for line in file:\n",
        "            parts = line.strip().split('/')\n",
        "            if len(parts) == 2:\n",
        "                input_text, target_text = parts\n",
        "                input_texts.append(input_text.strip().lower())  # Convert to lowercase\n",
        "                # Adding <start> and <end> to the target text and convert to lowercase\n",
        "                target_texts.append('<start> ' + target_text.strip().lower() + ' <end>')\n",
        "            else:\n",
        "                print(\"Skipping line with invalid format:\", line.strip())\n",
        "    return input_texts, target_texts\n",
        "\n",
        "\n",
        "\n",
        "# Define the file path\n",
        "file_path = 'Buongiorno.txt'\n",
        "\n",
        "# Load the dataset\n",
        "input_texts, target_texts = read_data(file_path)\n",
        "\n",
        "# Print a random pair\n",
        "random_index = random.randint(0, len(input_texts) - 1)\n",
        "print(\"Input:\", input_texts[random_index])\n",
        "print(\"Target:\", target_texts[random_index])\n",
        "\n",
        "# Print lengths of input and target texts\n",
        "print(input_texts)\n",
        "print(target_texts)\n",
        "\n"
      ],
      "metadata": {
        "id": "SJO-JYXBAmh-",
        "colab": {
          "base_uri": "https://localhost:8080/"
        },
        "outputId": "0dc280f0-06d5-405d-80ad-2d5ca52108ad"
      },
      "execution_count": 200,
      "outputs": [
        {
          "output_type": "stream",
          "name": "stdout",
          "text": [
            "Skipping line with invalid format: \n",
            "Skipping line with invalid format: \n",
            "Skipping line with invalid format: \n",
            "Input: siete voi la mamma stupida\n",
            "Target: <start> vuj site a’ mamma fess <end>\n",
            "['\\ufeffbuongiorno', 'scusa', 'scusi', 'tu sei', 'la', 'fidanzata', 'di', 'buongiorno', 'scusi', 'sono', 'io', 'piacere', 'voi', 'siete', 'signora', 'la signora', 'voi siete', 'la fidanzata', 'la la la la la', 'la fidanzata signora', 'la signora fidanzata', 'la signora fidanzata fidanzata', 'tu sei la signora', 'piacere, signora', 'piacere signora', 'piacere sono la signora', 'piacere sono la signora fidanzata', 'io sono la signora', 'buongiorno buongiorno buongiorno', 'fidanzata fidanzata', 'fidanzata fidanzata fidanzata fidanzata fidanzata', 'signora signora signora signora', 'signora signora', 'signora la fidanzata', 'la signora signora', 'scusa, tu sei la fidanzata', 'buongiorno, scusa, sono io', 'voi voi signora', 'voi siete la signora', 'voi voi voi', 'la fidanzata, scusatemi', 'piacere, voi siete la signora', 'la fidanzata, piacere', 'tu sei la fidanzata, scusatemi', 'la fidanzata, sono io', 'la signora, piacere', 'signora voi', 'la signora fidanzata, scusa', 'piacere, sono la fidanzata', 'la signora, scusatemi', 'io sono la signora, piacere', 'piacere, la signora fidanzata', 'scusa, tu sei la signora', 'la, buongiorno', 'la fidanzata, sei tu', 'scusi, la signora fidanzata', 'piacere, la signora fidanzata', 'voi siete la fidanzata', 'la fidanzata siete voi', 'buongiorno, la signora.', 'la signora, sono io', 'la, scusatemi', 'la fidanzata, piacere', 'buongiorno, la fidanzata', 'io sono la fidanzata', 'io sono la', 'sono la fidanzata', 'sono fidanzata', 'piacere, sono io, la fidanzata', 'piacere, sono io', 'sono io, sono', 'piacere, siete la fidanzata', 'scusa scusa', 'scusa signora', 'scusa signora scusa', 'sono io la fidanzata', 'sono la fidanzata', 'sono la signora', 'buongiorno, sono la signora', 'buongiorno, sono la fidanzata', 'scusi, sono la fidanzata', 'scusi, signora', 'la buongiorno signora', 'signora buongiorno, siete la fidanzata', 'signora buongiorno', 'fidanzata signora buongiorno', 'fidanzata sei', 'io sono la fidanzata signora fidanzata', 'io sono fidanzata, signora', 'voi siete la signora, la fidanzata', 'voi voi voi siete', 'scusa, sono io, la fidanzata', 'piacere, signora fidanzata', 'buongiorno, scusi, sono la signora', 'io sono la signora fidanzata, piacere', 'tu sei la fidanzata, scusatemi', 'piacere, sono la signora, fidanzata', 'buongiorno, signora fidanzata', 'io sono fidanzata, signora', 'la signora fidanzata, sono io', 'piacere, sono la fidanzata, signora', 'scusa, signora fidanzata', 'la signora, fidanzata', 'signora, fidanzata, buongiorno', 'la fidanzata, scusa', 'io sono la signora, la signora fidanzata, sono io', 'siete voi la signora fidanzata', 'siete voi la signora siete voi', 'siete voi la signora, siete voi', 'la signora siete voi', 'la fidanzata siete voi', 'la signora fidanzata siete voi', 'signora siete voi', 'io sono sono sono sono sono sono io', 'io sono sono sono io', 'io sono sono sono', 'sono io', 'sono io sono io la fidanzata', 'io sono sono sono sono sono sono sono', 'sono io sono io la signora', 'il', 'fidanzato', 'la mamma', 'voi siete', 'il fidanzato', 'il il il il il', 'tu sei la mamma', 'piacere, mamma', 'piacere mamma', 'piacere sono la mamma', 'io sono la mamma', 'fidanzato fidanzato', 'fidanzato fidanzato fidanzato fidanzato fidanzato', 'mamma mamma mamma mamma', 'mamma mamma', 'mamma il fidanzato', 'la mamma mamma', 'scusa, tu sei il fidanzato', 'buongiorno, scusa, sono io', 'voi voi mamma', 'voi siete la mamma', 'voi voi voi', 'il fidanzato, scusatemi', 'piacere, voi siete la mamma', 'il fidanzato, piacere', 'tu sei il fidanzato, scusatemi', 'il fidanzato, sono io', 'la mamma, piacere', 'mamma voi', 'la mamma fidanzata, scusa', 'piacere, sono il fidanzato', 'la mamma, scusatemi', 'io sono la mamma, piacere', 'piacere, la mamma fidanzata', 'scusa, tu sei la mamma', 'il fidanzato, sei tu', 'scusi, la mamma fidanzata', 'piacere, la mamma fidanzata', 'voi siete il fidanzato', 'il fidanzato siete voi', 'buongiorno, la mamma.', 'la mamma, sono io', 'il fidanzato, piacere', 'buongiorno, il fidanzato', 'io sono il fidanzato', 'io sono la', 'sono il fidanzato', 'sono fidanzato', 'piacere, sono io, il fidanzato', 'piacere, siete il fidanzato', 'scusa scusa', 'scusa mamma', 'scusa mamma scusa', 'sono io il fidanzato', 'sono il fidanzato', 'sono la mamma', 'buongiorno, sono la mamma', 'buongiorno, sono il fidanzato', 'scusi, sono il fidanzato', 'scusi, mamma', 'la buongiorno mamma', 'mamma buongiorno, siete il fidanzato', 'mamma buongiorno', 'fidanzata mamma buongiorno', 'fidanzata sei', 'io sono il fidanzato mamma fidanzata', 'io sono fidanzata, mamma', 'voi siete la mamma, il fidanzato', 'voi voi voi siete', 'scusa, sono io, il fidanzato', 'piacere, mamma fidanzata', 'buongiorno, scusi, sono la mamma', 'io sono la mamma fidanzata, piacere', 'tu sei il fidanzato, scusatemi', 'piacere, sono la mamma, fidanzata', 'buongiorno, mamma fidanzata', 'io sono fidanzato, mamma', 'la mamma fidanzata, sono io', 'piacere, sono il fidanzato, mamma', 'scusa, mamma fidanzata', 'la mamma, fidanzata', 'signora, fidanzata, buongiorno', 'il fidanzato, scusa', 'io sono la mamma, la mamma fidanzata, sono io', 'siete voi la mamma fidanzata', 'siete voi la mamma siete voi', 'siete voi la mamma, siete voi', 'la mamma siete voi', 'il fidanzato siete voi', 'la mamma fidanzata siete voi', 'mamma siete voi', 'sono io sono io il fidanzato', 'io sono sono sono sono sono sono sono', 'sono io sono io il fidanzato', 'sono fidanzato io', 'mamma sono io, sono la signora mamma', 'sono io mamma, sono fidanzato', 'la mamma mamma mamma sono', 'la mamma sono la mamma sono la mamma', 'tu sei', 'tu sei tu', 'deve passare la notte', 'deve', 'passare', 'la signora deve passare qui', 'deve passare la mamma', 'ogni scarafaggio è bello per la propria mamma', 'per', 'per la', 'per la mamma', 'per il', 'per il fidanzato', 'sua mamma', 'la sua mamma', 'la notte di mamma', 'la notte del fidanzato', 'nessuno è di mamma', 'la notte della fidanzata', 'di di di di di', 'di del della', 'del', 'del', 'della', 'qui nessuno è stupido', 'stupido', 'qui è notte', 'qui è fidanzata', 'la fidanzata è qua', 'la signora di qua', 'la mamma qua', 'qua la mamma è signora', 'qua qua qua qua', 'nessuno', 'nessuno è fidanzato qua', 'il fidanzato è stupido', 'la fidanzata è stupida', 'qui', 'stupido', 'scarafaggio', 'buongiorno, scusi, sono la mamma', 'io sono la mamma stupida, piacere', 'piacere, sono la mamma, stupida', 'buongiorno, mamma stupida', 'io sono lo scarafaggio, mamma', 'la mamma stupida, sono io', 'piacere, sono lo scarafaggio, mamma', 'scusa, mamma stupida', 'la mamma, stupida', 'signora, stupida, buongiorno', 'stupida stupida stupida', 'stupida stupida', 'lo stupido', 'la stupida', 'lo scarafaggio, scusa', 'io sono la mamma, la mamma stupida, sono io', 'siete voi la mamma stupida', 'siete voi la mamma siete voi', 'siete voi la mamma, siete voi', 'la mamma siete voi', 'lo scarafaggio siete voi', 'la mamma stupida siete voi', 'mamma siete voi', 'sono io sono io lo scarafaggio', 'io sono sono sono sono sono sono sono', 'sono io sono io lo scarafaggio', 'sono lo scarafaggio io', 'mamma sono io, sono la signora mamma', 'sono io mamma, sono lo scarafaggio', 'la mamma mamma mamma sono', 'la mamma sono la mamma sono la mamma', 'tu sei lo scarafaggio', 'scusa scarafaggio', 'la mamma lo scarafaggio', 'la mamma stupida', 'la mamma è stupida', 'la signora stupida', 'deve passare qui', 'la mamma qui', 'nessuno è la fidanzata stupida', 'nessuno è la mamma', 'nessuno è qua', 'è qua', 'nessuno è', 'la fidanzata fidanzata signora fidanzata', 'buongiorno signora nessuno è di mamma', 'la la fidanzata la notte', 'il fidanzato è qua', 'la notte la notte', 'la notte la notte la notte  la notte  la notte', 'è qua è qua', 'è qua è qua è qua è qua è qua è qua', 'nessuno nessuno è qua']\n",
            "['<start> bongiorn <end>', '<start> scusa <end>', '<start> scusatemi <end>', '<start> sit <end>', '<start> a’ <end>', '<start> fidanzata <end>', '<start> ’e <end>', '<start> bongiorn <end>', '<start> scusatemi <end>', '<start> so <end>', '<start> ij <end>', '<start> piacere <end>', '<start> vuj <end>', '<start> site <end>', '<start> signora <end>', '<start> a’ signora <end>', '<start> vuj site <end>', '<start> a’ fidanzata <end>', '<start> a’ a’ a’ a’ a’ <end>', '<start> a’ signora fidanzata <end>', '<start> a’ signora fidanzata <end>', '<start> a’ signora fidanzata fidanzata <end>', '<start> sit a’ signora <end>', '<start> piacere, signora <end>', '<start> piacere, signora <end>', '<start> piacere, so a’ signora <end>', '<start> piacere, so a’ signora fidanzata <end>', '<start> ij so a signora <end>', '<start> bongiorn bongiorn bongiorn <end>', '<start> fidanzata fidanzata <end>', '<start> fidanzata fidanzata fidanzata fidanzata fidanzata <end>', '<start> signora signora signora signora <end>', '<start> signora signora <end>', '<start> signora a’ fidanzata <end>', '<start> a’ signora signora <end>', '<start> scusa, sit a’ fidanzata <end>', '<start> bongiorn, scusa, so ij <end>', '<start> vuj vuj signora <end>', '<start> vuj site a’ signora <end>', '<start> vuj vuj vuj <end>', '<start> a’ fidanzata, scusatemi <end>', '<start> piacere, vuj site a’ signora <end>', '<start> a’ fidanzata, piacere <end>', '<start> tu sit a’ fidanzata, scusatemi <end>', '<start> a’ fidanzata, so ij <end>', '<start> a’ signora, piacere <end>', '<start> signora vuj <end>', '<start> a’ signora fidanzata, scusatemi <end>', '<start> piacere so a’ fidanzata <end>', '<start> a’ signora, scusatemi <end>', '<start> ij so a’ signora, piacere <end>', '<start> piacere, a’ signora fidanzata <end>', '<start> scusa, sit a’ signora <end>', '<start> a’, bongiorn <end>', '<start> tu sit a’ fidanzata <end>', '<start> scusatemi, sit a’ signora fidanzata <end>', '<start> piacere, a’ signora fidanzata <end>', '<start> vuj site a’ fidanzata <end>', '<start> a’ fidanzata site vuj <end>', '<start> bongiorn, a’ signora <end>', '<start> ij so a’ signora <end>', '<start> a’, scusatemi <end>', '<start> a’ fidanzata, piacere <end>', '<start> bongiorn, a’ fidanzata <end>', '<start> ij so a’ fidanzata <end>', '<start> ij so a’ <end>', '<start> so a’ fidanzata <end>', '<start> so fidanzata <end>', '<start> piacere, so ij, a’ fidanzata <end>', '<start> piacere, so ij <end>', '<start> so ij so <end>', '<start> piacere, site a’ fidanzata <end>', '<start> scusa scusa <end>', '<start> scusa signora <end>', '<start> scusa signora scusa <end>', '<start> a’ fidanzata so ij <end>', '<start> so a’ fidanzata <end>', '<start> so a’ signora <end>', '<start> bongiorn, so a’ signora <end>', '<start> bongiorn, so a’ fidanzata <end>', '<start> scusatemi, so a’ fidanzata <end>', '<start> scusatemi, signora <end>', '<start> a’, bongiorn, signora <end>', '<start> signora bongiorn, site a’ fidanzata <end>', '<start> signora bongiorn <end>', '<start> signora fidanzata, bongiorn <end>', '<start> fidanzata sit <end>', '<start> ij so a’ fidanzata signora fidanzata <end>', '<start> ij so fidanzata, signora <end>', '<start> vuj site a’ signora, a’ fidanzata <end>', '<start> vuj vuj vuj site <end>', '<start> scusa, so ij <end>', '<start> piacere, signora fidanzata <end>', '<start> bongiorn, scusatemi, so a’ signora <end>', '<start> ij so a signora fidanzata, piacere <end>', '<start> sit a’ fidanzata, scusatemi <end>', '<start> piacere, so a’ signora, a’ fidanzata <end>', '<start> bongiorn, signora fidanzata <end>', '<start> ij so fidanzata, signora <end>', '<start> a’ signora fidanzata, so ij <end>', '<start> piacere, so a’ fidanzata, signora <end>', '<start> scusa, signora fidanzata <end>', '<start> a’ signora, a’ fidanzata <end>', '<start> signora fidanzata, bongiorn <end>', '<start> a’ fidanzata, scusa <end>', '<start> so a’ signora, a’ signora fidanzata, so ij <end>', '<start> vuj site a’ signora fidanzata <end>', '<start> site vuj a’ signora, site vuj <end>', '<start> site vuj a’ signora, site vuj <end>', '<start> a’ signora site vuj <end>', '<start> a’ fidanzata site vuj <end>', '<start> a’ signora fidanzata site vuj <end>', '<start> signora site vuj <end>', '<start> ij so so so so so so ij <end>', '<start> ij so so so ij <end>', '<start> ij so so so <end>', '<start> so ij <end>', '<start> so ij, so ij, a’ fidanzata <end>', '<start> ij so so so so so so so <end>', '<start> so ij, so ij, a’ signora <end>', '<start> lu <end>', '<start> zitu <end>', '<start> a’ mamma <end>', '<start> vuj site <end>', '<start> lu zitu <end>', '<start> lu lu lu lu lu <end>', '<start> sit a’ mamma <end>', '<start> piacere, mamma <end>', '<start> piacere, mamma <end>', '<start> piacere, so a’ mamma <end>', '<start> ij so a mamma <end>', '<start> zitu zitu <end>', '<start> zitu zitu zitu fidanzato zitu zitu <end>', '<start> mamma mamma mamma mamma <end>', '<start> mamma mamma <end>', '<start> mamma lu zitu <end>', '<start> a’ mamma mamma <end>', '<start> scusa, sit lu zitu <end>', '<start> bongiorn, scusa, so ij <end>', '<start> vuj vuj mamma <end>', '<start> vuj site a’ mamma <end>', '<start> vuj vuj vuj <end>', '<start> lu zitu, scusatemi <end>', '<start> piacere, vuj site a’ mamma <end>', '<start> lu zitu, piacere <end>', '<start> tu sit lu zitu, scusatemi <end>', '<start> lu zitu, so ij <end>', '<start> a’ mamma, piacere <end>', '<start> mamma vuj <end>', '<start> a’ mamma fidanzata, scusatemi <end>', '<start> piacere so lu zitu <end>', '<start> a’ mamma, scusatemi <end>', '<start> ij so a’ mamma, piacere <end>', '<start> piacere, a’ mamma fidanzata <end>', '<start> scusa, sit a’ mamma <end>', '<start> tu sit lu zitu <end>', '<start> scusatemi, sit a’ mamma fidanzata <end>', '<start> piacere, a’ mamma fidanzata <end>', '<start> vuj site lu zitu <end>', '<start> lu zitu site vuj <end>', '<start> bongiorn, a’ mamma <end>', '<start> ij so a’ mamma <end>', '<start> lu zitu, piacere <end>', '<start> bongiorn, lu zitu <end>', '<start> ij so lu zitu <end>', '<start> ij so a’ <end>', '<start> so lu zitu <end>', '<start> so‘nnammoràto <end>', '<start> piacere, so ij, lu zitu <end>', '<start> piacere, site lu zitu <end>', '<start> scusa scusa <end>', '<start> scusa mamma <end>', '<start> scusa mamma scusa <end>', '<start> lu zitu so ij <end>', '<start> so lu zitu <end>', '<start> so a’ mamma <end>', '<start> bongiorn, so a’ mamma <end>', '<start> bongiorn, so lu zitu <end>', '<start> scusatemi, so lu zitu <end>', '<start> scusatemi, mamma <end>', '<start> a’, bongiorn, mamma <end>', '<start> mamma bongiorn, site lu zitu <end>', '<start> mamma bongiorn <end>', '<start> mamma fidanzata, bongiorn <end>', '<start> fidanzata sit <end>', '<start> ij so lu zitu mamma fidanzata <end>', '<start> ij so fidanzata, mamma <end>', '<start> vuj site a’ mamma, lu zitu <end>', '<start> vuj vuj vuj site <end>', '<start> scusa, so ij, lo zitu <end>', '<start> piacere, mamma fidanzata <end>', '<start> bongiorn, scusatemi, so a’ mamma <end>', '<start> ij so a mamma fidanzata, piacere <end>', '<start> sit lu zitu, scusatemi <end>', '<start> piacere, so a’ mamma, lu zitu <end>', '<start> bongiorn, mamma fidanzata <end>', '<start> ij so ‘nnammoràto, mamma <end>', '<start> a’ mamma fidanzata, so ij <end>', '<start> piacere, so lu zitu, mamma <end>', '<start> scusa, mamma fidanzata <end>', '<start> a’ mamma, lu zitu <end>', '<start> signora fidanzata, bongiorn <end>', '<start> lu zitu, scusa <end>', '<start> so a’ mamma, a’ mamma fidanzata, so ij <end>', '<start> vuj site a’ mamma fidanzata <end>', '<start> site vuj a’ mamma, site vuj <end>', '<start> site vuj a’ mamma, site vuj <end>', '<start> a’ mamma site vuj <end>', '<start> lu zitu site vuj <end>', '<start> a’ mamma fidanzata site vuj <end>', '<start> mamma site vuj <end>', '<start> so ij, so ij, lu zitu <end>', '<start> ij so so so so so so so <end>', '<start> so ij, so ij lu zitu <end>', '<start> so‘nnammoràto <end>', '<start> mamma so ij, so a’ signora mamma <end>', '<start> so ij mamma, so ‘nnamorato <end>', '<start> a’ mamma mamma mamma so <end>', '<start> a’ mamma so a’ mamma, so a’ mamma <end>', \"<start> tu\\xa0'si <end>\", \"<start> tu\\xa0'si tu <end>\", '<start> adda passà a’ nuttata <end>', '<start> adda <end>', '<start> passà <end>', '<start> adda passà a’ signora ccà <end>', '<start> adda passà ‘a mamma <end>', '<start> ògne scarrafóne è bbèllo ‘a màmma sóia <end>', '<start> ’a <end>', '<start> ’a <end>', '<start> ’a mamma <end>', '<start> ’a <end>', '<start> ’a fidanzato <end>', '<start> mamma sóia <end>', '<start> ’a mamma sóia <end>', '<start> ‘a nuttata ‘e mamma <end>', '<start> ‘a nuttata ‘e zitu <end>', '<start> nisciuno è ‘e mamma <end>', '<start> ‘a nuttata ‘e fidanzata <end>', '<start> ’e ‘e ‘e ‘e ‘e <end>', '<start> ’e ‘e ‘e <end>', '<start> ’e <end>', '<start> ’e ‘e <end>', '<start> ’e <end>', '<start> ccà nisciuno è fesso <end>', '<start> fesso <end>', '<start> ccà è nuttata <end>', '<start> ccà è fidanzata <end>', '<start> a’ fidanzata è ccà <end>', '<start> a’ signora ‘e ccà <end>', '<start> a’ mamma ccà <end>', '<start> a’ mamma è signora ccà <end>', '<start> ccà ccà ccà ccà <end>', '<start> nisciuno <end>', '<start> nisciuno è zitu ccà <end>', '<start> lu zitu è fesso <end>', '<start> a’ fidanzata è fess <end>', '<start> ccà <end>', '<start> fesso <end>', '<start> scarrafóne <end>', '<start> bongiorn, scusatemi, so a’ mamma <end>', '<start> ij so a mamma fess, piacere <end>', '<start> piacere, so a’ mamma, fess <end>', '<start> bongiorn, mamma fess <end>', '<start> ij so lu scarrafóne, mamma <end>', '<start> a’ mamma fess, so ij <end>', '<start> piacere, so lu scarrafóne, mamma <end>', '<start> scusa, mamma fess <end>', '<start> a’ mamma, fess <end>', '<start> signora stupida, bongiorn <end>', '<start> fess fess fess <end>', '<start> fess fess <end>', '<start> lu fesso <end>', '<start> a’ fess <end>', '<start> lu scarrafóne, scusa <end>', '<start> so a’ mamma, a’ mamma fess, so ij <end>', '<start> vuj site a’ mamma fess <end>', '<start> site vuj a’ mamma, site vuj <end>', '<start> site vuj a’ mamma, site vuj <end>', '<start> a’ mamma site vuj <end>', '<start> lu scarrafóne site vuj <end>', '<start> a’ mamma fess site vuj <end>', '<start> mamma site vuj <end>', '<start> so ij, so ij, lu scarrafóne <end>', '<start> ij so so so so so so so <end>', '<start> so ij, so ij lu scarrafóne <end>', '<start> so ij, lu scarrafóne so ij <end>', '<start> mamma so ij, so a’ signora mamma <end>', '<start> so ij mamma, so lu scarrafóne <end>', '<start> a’ mamma mamma mamma so <end>', '<start> a’ mamma so a’ mamma, so a’ mamma <end>', '<start> tu si’ lu scarrafóne <end>', '<start> scusa, scarrafóne <end>', '<start> a’ mamma, lu scarrafone <end>', '<start> a’ mamma fess <end>', '<start> a’mamma è fess <end>', '<start> a’ signora fess <end>', '<start> adda passà ccà <end>', '<start> a’ mamma ccà <end>', '<start> nisciuno è a’ fidanzata fess <end>', '<start> nisciuno è a’ mamma <end>', '<start> nisciuno è ccà <end>', '<start> è ccà <end>', '<start> nisciuno è <end>', '<start> a’ fidanzata fidanzata signora fidanzata <end>', '<start> bongiorn, signora, nisciuno è a’ mamma <end>', '<start> a’ a’ fidanzata a’ <end>', '<start> lo zitu è ccà <end>', '<start> ‘a nuttata ‘a nuttata <end>', '<start> ‘a nuttata ‘a nuttata ‘a nuttata ‘a nuttata ‘a nuttata <end>', '<start> è ccà è ccà <end>', '<start> è ccà è ccà è ccà è ccà è ccà è ccà <end>', '<start> nisciuno, nisciuno è ccà <end>']\n"
          ]
        }
      ]
    },
    {
      "cell_type": "code",
      "execution_count": null,
      "metadata": {
        "colab": {
          "base_uri": "https://localhost:8080/"
        },
        "id": "ln1f0QZK-xeb",
        "outputId": "bb273089-2087-4ceb-a356-79497631dd6f"
      },
      "outputs": [
        {
          "output_type": "stream",
          "name": "stdout",
          "text": [
            "Epoch 1/2500\n"
          ]
        }
      ],
      "source": [
        "import numpy as np\n",
        "\n",
        "#Tokenize the input and target texts\n",
        "input_tokenizer = tf.keras.preprocessing.text.Tokenizer()\n",
        "input_tokenizer.fit_on_texts(input_texts)\n",
        "input_sequences = input_tokenizer.texts_to_sequences(input_texts)\n",
        "input_sequences = tf.keras.preprocessing.sequence.pad_sequences(input_sequences, padding='post')\n",
        "\n",
        "target_tokenizer = tf.keras.preprocessing.text.Tokenizer(filters='')\n",
        "target_tokenizer.fit_on_texts(target_texts)\n",
        "target_sequences = target_tokenizer.texts_to_sequences(target_texts)\n",
        "target_sequences = tf.keras.preprocessing.sequence.pad_sequences(target_sequences, padding='post')\n",
        "\n",
        "#Define the model\n",
        "embedding_dim = 16\n",
        "units = 32\n",
        "\n",
        "encoder_inputs = tf.keras.layers.Input(shape=(None,))\n",
        "encoder_embedding = tf.keras.layers.Embedding(len(input_tokenizer.word_index) + 1, embedding_dim)\n",
        "encoder_outputs, state_h, state_c = tf.keras.layers.LSTM(units, return_state=True)(encoder_embedding(encoder_inputs))\n",
        "encoder_states = [state_h, state_c]\n",
        "\n",
        "decoder_inputs = tf.keras.layers.Input(shape=(None,))\n",
        "decoder_embedding = tf.keras.layers.Embedding(len(target_tokenizer.word_index) + 1, embedding_dim)\n",
        "decoder_lstm = tf.keras.layers.LSTM(units, return_sequences=True, return_state=True)\n",
        "decoder_outputs, _, _ = decoder_lstm(decoder_embedding(decoder_inputs), initial_state=encoder_states)\n",
        "decoder_dense = tf.keras.layers.Dense(len(target_tokenizer.word_index) + 1, activation='softmax')\n",
        "decoder_outputs = decoder_dense(decoder_outputs)\n",
        "\n",
        "model = tf.keras.models.Model([encoder_inputs, decoder_inputs], decoder_outputs)\n",
        "\n",
        "#Compile and train the model\n",
        "model.compile(optimizer='adam', loss='sparse_categorical_crossentropy')\n",
        "model.fit([input_sequences, target_sequences[:, :-1]], target_sequences[:, 1:], epochs=2500) #epochs number\n",
        "\n",
        "#Define inference models\n",
        "encoder_model = tf.keras.models.Model(encoder_inputs, encoder_states)\n",
        "\n",
        "decoder_state_input_h = tf.keras.layers.Input(shape=(units,))\n",
        "decoder_state_input_c = tf.keras.layers.Input(shape=(units,))\n",
        "decoder_states_inputs = [decoder_state_input_h, decoder_state_input_c]\n",
        "\n",
        "decoder_outputs, state_h, state_c = decoder_lstm(decoder_embedding(decoder_inputs), initial_state=decoder_states_inputs)\n",
        "decoder_states = [state_h, state_c]\n",
        "decoder_outputs = decoder_dense(decoder_outputs)\n",
        "\n",
        "decoder_model = tf.keras.models.Model([decoder_inputs] + decoder_states_inputs, [decoder_outputs] + decoder_states)\n",
        "\n",
        "#Get the maximum target sequence length\n",
        "max_target_length = max(len(sequence) for sequence in target_sequences[:, 1:])\n",
        "\n",
        "#Define a function for inference\n",
        "def translate_sentence(input_sentence):\n",
        "    input_sequence = input_tokenizer.texts_to_sequences([input_sentence])\n",
        "    input_sequence = tf.keras.preprocessing.sequence.pad_sequences(input_sequence,  maxlen=input_sequences.shape[1], padding='post')\n",
        "    encoder_states_value = encoder_model.predict(input_sequence)\n",
        "    target_sequence = np.zeros((1, 1))\n",
        "    target_sequence[0, 0] = target_tokenizer.word_index['<start>']\n",
        "    translated_sentence = ''\n",
        "    stop_condition = False\n",
        "    while not stop_condition:\n",
        "        output_tokens, h, c = decoder_model.predict([target_sequence] + encoder_states_value)\n",
        "        sampled_token_index = np.argmax(output_tokens[0, -1, :])\n",
        "        # Get reverse word index for target tokenizer\n",
        "        reverse_target_word_index = {index: word for word, index in     target_tokenizer.word_index.items()}\n",
        "\n",
        "        if sampled_token_index in reverse_target_word_index:\n",
        "              sampled_word = reverse_target_word_index[sampled_token_index]\n",
        "              translated_sentence += sampled_word + ' '\n",
        "        if sampled_word == '<end>' or len(translated_sentence.split()) > max_target_length:\n",
        "            stop_condition = True\n",
        "        target_sequence = np.zeros((1, 1))\n",
        "        target_sequence[0, 0] = sampled_token_index\n",
        "        encoder_states_value = [h, c]\n",
        "    return translated_sentence\n",
        "\n",
        "    #Translate input sentences\n",
        "for input_sentence in input_texts:\n",
        "    print('Input sentence:', input_sentence)\n",
        "    print('Translated sentence:', translate_sentence(input_sentence))"
      ]
    },
    {
      "cell_type": "code",
      "source": [
        "# Define your input text\n",
        "input_text = \"la mamma è qua è qua\"\n",
        "\n",
        "# Get the translation\n",
        "translation = translate_sentence(input_text)\n",
        "\n",
        "# Print the input text and its translation\n",
        "print('Input sentence:', input_text)\n",
        "print('Translated sentence:', translation)\n"
      ],
      "metadata": {
        "id": "saiQest1_2bP"
      },
      "execution_count": null,
      "outputs": []
    },
    {
      "cell_type": "code",
      "source": [
        "# Save the trained model as a SavedModel\n",
        "model.save('saved_model')\n",
        "\n",
        "converter = tf.lite.TFLiteConverter.from_saved_model('saved_model')\n",
        "converter.target_spec.supported_ops = [tf.lite.OpsSet.TFLITE_BUILTINS, tf.lite.OpsSet.SELECT_TF_OPS]\n",
        "converter._experimental_lower_tensor_list_ops = False\n",
        "tflite_model = converter.convert()\n",
        "\n",
        "with open('model.tflite', 'wb') as f:\n",
        "    f.write(tflite_model)\n"
      ],
      "metadata": {
        "id": "LrJE-Jf3TfT4"
      },
      "execution_count": null,
      "outputs": []
    }
  ]
}